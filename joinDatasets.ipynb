{
 "cells": [
  {
   "cell_type": "markdown",
   "metadata": {},
   "source": [
    "# Trabalho prático de Análise Inteligente em Sistemas de \"Big Data\""
   ]
  },
  {
   "cell_type": "markdown",
   "metadata": {},
   "source": [
    "Importar bibliotecas"
   ]
  },
  {
   "cell_type": "code",
   "execution_count": 3,
   "metadata": {},
   "outputs": [],
   "source": [
    "import pandas as pd"
   ]
  },
  {
   "cell_type": "markdown",
   "metadata": {},
   "source": [
    "Juntar os datasets"
   ]
  },
  {
   "cell_type": "code",
   "execution_count": 6,
   "metadata": {},
   "outputs": [
    {
     "name": "stdout",
     "output_type": "stream",
     "text": [
      "Index(['Anos', 'Total', 'Das atividades económicas', 'Das famílias',\n",
      "       'Dióxido de carbono de origem fóssil',\n",
      "       'Dióxido de carbono com origem na biomassa', 'Óxido nitroso', 'Metano',\n",
      "       'Amoníaco', 'Compostos orgânicos voláteis não metanosos',\n",
      "       'Monóxido de carbono', 'Óxidos de azoto', 'Óxidos de enxofre',\n",
      "       'Hidrofluorcarbonetos', 'Hexafluoreto de enxofre',\n",
      "       'Agricultura, produção animal, caça, floresta e pesca',\n",
      "       'Indústrias extrativas', 'Indústrias transformadoras',\n",
      "       'Eletridade, gás, vapor,...',\n",
      "       'Captação, tratamento e distribuição de água...', 'Construção',\n",
      "       'Comércio por grosso e a retalho,...', 'Transportes e armazenagem',\n",
      "       'Alojamento, restauração e similares',\n",
      "       'Atividades de informação e de comunicação',\n",
      "       'Atividades financeiras e de seguros', 'Atividades imobiliárias',\n",
      "       'Atividades de consultoria, científicas, técnicas e similares',\n",
      "       'Atividades administrativas e dos serviços de apoio',\n",
      "       'Administração Pública e Defesa, e Segurança Social obrigatória',\n",
      "       'Educação', 'Atividades de saúde humana e apoio social',\n",
      "       'Atividades artísticas, de espetáculos, desportivas e recreativas',\n",
      "       'Outras atividades de serviços'],\n",
      "      dtype='object')\n"
     ]
    }
   ],
   "source": [
    "# Read the data from the CSV files\n",
    "ds1 = pd.read_excel('dataset_input/efeito_estufa.xlsx')\n",
    "ds2 = pd.read_excel('dataset_input/emissoes_gases.xlsx')\n",
    "ds3 = pd.read_excel('dataset_input/intensidade_carbonica.xlsx')\n",
    "ds4 = pd.read_excel('dataset_input/PIBcrescimento.xlsx')\n",
    "ds5 = pd.read_excel('dataset_input/PIBdespesas.xlsx')\n",
    "ds6 = pd.read_excel('dataset_input/PIBproducao.xlsx')\n",
    "ds7 = pd.read_excel('dataset_input/PIBrendimento.xlsx')\n",
    "\n",
    "# Merge the data\n",
    "dsAmbiente = pd.merge(pd.merge(ds1, ds2, on='Anos'), ds3, on='Anos')\n",
    "dsPIB = pd.merge(pd.merge(ds4, ds5, on='Anos'), pd.merge(ds6, ds7, on='Anos'), on='Anos')\n",
    "\n",
    "# verify joined datasets\n",
    "dsPIB.dropna(inplace=True)\n",
    "# drop repeated columns total, total_x and total_y are all the same values\n",
    "dsPIB.drop(columns=['Total_x', 'Total_y'], inplace=True)\n",
    "\n",
    "dsAmbiente.dropna(inplace=True)\n",
    "\n",
    "print()\n",
    "\n",
    "ds = pd.merge(dsAmbiente, dsPIB, on='Anos')\n",
    "\n",
    "ds.to_csv('dataset_output/output.csv', index=False)"
   ]
  }
 ],
 "metadata": {
  "kernelspec": {
   "display_name": "Python 3",
   "language": "python",
   "name": "python3"
  },
  "language_info": {
   "codemirror_mode": {
    "name": "ipython",
    "version": 3
   },
   "file_extension": ".py",
   "mimetype": "text/x-python",
   "name": "python",
   "nbconvert_exporter": "python",
   "pygments_lexer": "ipython3",
   "version": "3.9.6"
  }
 },
 "nbformat": 4,
 "nbformat_minor": 2
}
