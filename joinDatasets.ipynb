{
 "cells": [
  {
   "cell_type": "markdown",
   "metadata": {},
   "source": [
    "# Trabalho prático de Análise Inteligente em Sistemas de \"Big Data\""
   ]
  },
  {
   "cell_type": "markdown",
   "metadata": {},
   "source": [
    "Importar bibliotecas"
   ]
  },
  {
   "cell_type": "code",
   "execution_count": 7,
   "metadata": {},
   "outputs": [],
   "source": [
    "import pandas as pd\n",
    "import pyspark as pys\n",
    "import time"
   ]
  },
  {
   "cell_type": "markdown",
   "metadata": {},
   "source": [
    "Juntar os datasets e medir o tempo de execução com Python"
   ]
  },
  {
   "cell_type": "code",
   "execution_count": 9,
   "metadata": {},
   "outputs": [
    {
     "name": "stdout",
     "output_type": "stream",
     "text": [
      "Execution time: 0.286 seconds\n"
     ]
    }
   ],
   "source": [
    "# Measure exec time: Start point\n",
    "start_time = time.time()\n",
    "\n",
    "# Read the data from the CSV files\n",
    "ds1 = pd.read_excel('dataset_input/efeito_estufa.xlsx')\n",
    "ds2 = pd.read_excel('dataset_input/emissoes_gases.xlsx')\n",
    "ds3 = pd.read_excel('dataset_input/intensidade_carbonica.xlsx')\n",
    "ds4 = pd.read_excel('dataset_input/PIBcrescimento.xlsx')\n",
    "ds5 = pd.read_excel('dataset_input/PIBdespesas.xlsx')\n",
    "ds6 = pd.read_excel('dataset_input/PIBproducao.xlsx')\n",
    "ds7 = pd.read_excel('dataset_input/PIBrendimento.xlsx')\n",
    "\n",
    "# Merge the data\n",
    "dsAmbiente = pd.merge(pd.merge(ds1, ds2, on='Anos'), ds3, on='Anos')\n",
    "dsPIB = pd.merge(pd.merge(ds4, ds5, on='Anos'), pd.merge(ds6, ds7, on='Anos'), on='Anos')\n",
    "\n",
    "# verify joined datasets\n",
    "dsPIB.dropna(inplace=True)\n",
    "# drop repeated columns total, total_x and total_y are all the same values\n",
    "dsPIB.drop(columns=['Total_x', 'Total_y'], inplace=True)\n",
    "\n",
    "dsAmbiente.dropna(inplace=True)\n",
    "\n",
    "ds = pd.merge(dsAmbiente, dsPIB, on='Anos')\n",
    "\n",
    "ds.to_csv('dataset_output/output.csv', index=False)\n",
    "\n",
    "# Measure exec time: End point\n",
    "end_time = time.time()\n",
    "\n",
    "# Calculate execution time and show in stdout\n",
    "exec_time = end_time - start_time\n",
    "print(f\"Execution time: {round(exec_time, 3)} seconds\")"
   ]
  },
  {
   "cell_type": "markdown",
   "metadata": {},
   "source": [
    "Utilizar o PySpark para medição do tempo de execução, com conversão do dataset para formato Parquet"
   ]
  },
  {
   "cell_type": "code",
   "execution_count": null,
   "metadata": {},
   "outputs": [],
   "source": []
  },
  {
   "cell_type": "markdown",
   "metadata": {},
   "source": [
    "Introdução do ficheiro Parquet para uma base de dados (MongoDB)"
   ]
  },
  {
   "cell_type": "code",
   "execution_count": null,
   "metadata": {},
   "outputs": [],
   "source": []
  }
 ],
 "metadata": {
  "kernelspec": {
   "display_name": "Python 3",
   "language": "python",
   "name": "python3"
  },
  "language_info": {
   "codemirror_mode": {
    "name": "ipython",
    "version": 3
   },
   "file_extension": ".py",
   "mimetype": "text/x-python",
   "name": "python",
   "nbconvert_exporter": "python",
   "pygments_lexer": "ipython3",
   "version": "3.9.6"
  }
 },
 "nbformat": 4,
 "nbformat_minor": 2
}
