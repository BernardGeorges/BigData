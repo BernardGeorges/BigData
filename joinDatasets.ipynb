{
 "cells": [
  {
   "cell_type": "markdown",
   "metadata": {},
   "source": [
    "# Trabalho prático de Análise Inteligente em Sistemas de \"Big Data\""
   ]
  },
  {
   "cell_type": "markdown",
   "metadata": {},
   "source": [
    "Importar bibliotecas"
   ]
  },
  {
   "cell_type": "code",
   "execution_count": 12,
   "metadata": {},
   "outputs": [],
   "source": [
    "import pandas as pd\n",
    "import time\n",
    "from pymongo import MongoClient\n",
    "from pyspark.sql import SparkSession\n",
    "from unidecode import unidecode\n",
    "\n",
    "# Função para remover acentos de uma string\n",
    "def remover_acentos(texto):\n",
    "    return unidecode(texto)"
   ]
  },
  {
   "cell_type": "markdown",
   "metadata": {},
   "source": [
    "Juntar os datasets e medir o tempo de execução com Python"
   ]
  },
  {
   "cell_type": "code",
   "execution_count": 58,
   "metadata": {},
   "outputs": [
    {
     "name": "stdout",
     "output_type": "stream",
     "text": [
      "Index(['anos', 'Total_efeito_estufa',\n",
      "       'Total das atividades economicas_efeito_estufa',\n",
      "       'Total das famílias_efeito_estufa'],\n",
      "      dtype='object')\n",
      "Execution time: 0.221 seconds\n"
     ]
    }
   ],
   "source": [
    "# Measure exec time: Start point\n",
    "start_time = time.time()\n",
    "\n",
    "# Read the data from the CSV files\n",
    "ds1 = pd.read_excel('dataset_input/efeito_estufa.xlsx')\n",
    "ds2 = pd.read_excel('dataset_input/emissoes_gases.xlsx')\n",
    "ds3 = pd.read_excel('dataset_input/intensidade_carbonica.xlsx')\n",
    "ds4 = pd.read_excel('dataset_input/PIBcrescimento.xlsx')\n",
    "ds5 = pd.read_excel('dataset_input/PIBdespesas.xlsx')\n",
    "ds6 = pd.read_excel('dataset_input/PIBproducao.xlsx')\n",
    "ds7 = pd.read_excel('dataset_input/PIBrendimento.xlsx')\n",
    "\n",
    "ds1 = ds1.add_suffix('_efeito_estufa')\n",
    "ds1.rename(columns={'Anos_efeito_estufa': 'anos'}, inplace=True)\n",
    "\n",
    "ds2.rename(columns={'Anos': 'anos'}, inplace=True)\n",
    "\n",
    "ds3 = ds3.add_suffix('_intensidade_carbonica')\n",
    "ds3.rename(columns={'Anos_intensidade_carbonica': 'anos'}, inplace=True)\n",
    "\n",
    "ds4 = ds4.add_suffix('_PIBcrescimento')\n",
    "ds4.rename(columns={'Anos_PIBcrescimento': 'anos'}, inplace=True)\n",
    "\n",
    "ds5 = ds5.add_suffix('_PIBdespesas')\n",
    "ds5.rename(columns={'Anos_PIBdespesas': 'anos'}, inplace=True)\n",
    "\n",
    "ds6 = ds6.add_suffix('_PIBproducao')\n",
    "ds6.rename(columns={'Anos_PIBproducao': 'anos'}, inplace=True)\n",
    "\n",
    "ds7 = ds7.add_suffix('_PIBrendimento')\n",
    "ds7.rename(columns={'Anos_PIBrendimento': 'anos'}, inplace=True)\n",
    "\n",
    "print(ds1.columns)\n",
    "#Merge the data\n",
    "dsAmbiente = pd.merge(pd.merge(ds1, ds2, on='anos'), ds3, on='anos')\n",
    "dsPIB = pd.merge(pd.merge(ds4, ds5, on='anos'), pd.merge(ds6, ds7, on='anos'), on='anos')\n",
    "\n",
    "# verify joined datasets\n",
    "dsPIB.dropna(inplace=True)\n",
    "# drop repeated columns total, total_x and total_y are all the same values\n",
    "#dsPIB.drop(columns=['Total_x', 'Total_y'], inplace=True)\n",
    "\n",
    "dsAmbiente.dropna(inplace=True)\n",
    "\n",
    "ds = pd.merge(dsAmbiente, dsPIB, on='anos')\n",
    "\n",
    "ds.columns = map(remover_acentos, ds.columns.str.replace('das ', '').str.replace('de ', '').str.replace('e ', '').str.replace(',', '').str.replace(' ', '_').str.lower())\n",
    "\n",
    "ds.to_csv('dataset_output/output.csv', index=False)\n",
    "\n",
    "# Measure exec time: End point\n",
    "end_time = time.time()\n",
    "\n",
    "# Calculate execution time and show in stdout\n",
    "exec_time = end_time - start_time\n",
    "print(f\"Execution time: {round(exec_time, 3)} seconds\")"
   ]
  },
  {
   "cell_type": "markdown",
   "metadata": {},
   "source": [
    "Utilizar o PySpark para medição do tempo de execução, com conversão do dataset para formato Parquet (*Nota: Aparente erro na função write*)"
   ]
  },
  {
   "cell_type": "code",
   "execution_count": 54,
   "metadata": {},
   "outputs": [
    {
     "ename": "AnalysisException",
     "evalue": "[PATH_ALREADY_EXISTS] Path file:/c:/Users/Work/Documents/Aulas2023_24/sem2/BD/BigData/dataset_output/output.parquet already exists. Set mode as \"overwrite\" to overwrite the existing path.",
     "output_type": "error",
     "traceback": [
      "\u001b[1;31m---------------------------------------------------------------------------\u001b[0m",
      "\u001b[1;31mAnalysisException\u001b[0m                         Traceback (most recent call last)",
      "Cell \u001b[1;32mIn[54], line 5\u001b[0m\n\u001b[0;32m      1\u001b[0m session \u001b[38;5;241m=\u001b[39m SparkSession\u001b[38;5;241m.\u001b[39mbuilder\u001b[38;5;241m.\u001b[39mappName(\u001b[38;5;124m\"\u001b[39m\u001b[38;5;124mCSV to Parquet\u001b[39m\u001b[38;5;124m\"\u001b[39m)\u001b[38;5;241m.\u001b[39mgetOrCreate()\n\u001b[0;32m      3\u001b[0m df_spark \u001b[38;5;241m=\u001b[39m session\u001b[38;5;241m.\u001b[39mread\u001b[38;5;241m.\u001b[39mcsv(\u001b[38;5;124m\"\u001b[39m\u001b[38;5;124mdataset_output/output.csv\u001b[39m\u001b[38;5;124m\"\u001b[39m, header\u001b[38;5;241m=\u001b[39m\u001b[38;5;28;01mTrue\u001b[39;00m, inferSchema\u001b[38;5;241m=\u001b[39m\u001b[38;5;28;01mTrue\u001b[39;00m)\n\u001b[1;32m----> 5\u001b[0m df_spark\u001b[38;5;241m.\u001b[39mwrite\u001b[38;5;241m.\u001b[39mparquet(\u001b[38;5;124m\"\u001b[39m\u001b[38;5;124mdataset_output/output.parquet\u001b[39m\u001b[38;5;124m\"\u001b[39m) \u001b[38;5;66;03m# Write pode não estar funcional\u001b[39;00m\n\u001b[0;32m      7\u001b[0m session\u001b[38;5;241m.\u001b[39mstop()\n",
      "File \u001b[1;32mc:\\Users\\Work\\miniconda3\\envs\\BD2024\\Lib\\site-packages\\pyspark\\sql\\readwriter.py:1721\u001b[0m, in \u001b[0;36mDataFrameWriter.parquet\u001b[1;34m(self, path, mode, partitionBy, compression)\u001b[0m\n\u001b[0;32m   1719\u001b[0m     \u001b[38;5;28mself\u001b[39m\u001b[38;5;241m.\u001b[39mpartitionBy(partitionBy)\n\u001b[0;32m   1720\u001b[0m \u001b[38;5;28mself\u001b[39m\u001b[38;5;241m.\u001b[39m_set_opts(compression\u001b[38;5;241m=\u001b[39mcompression)\n\u001b[1;32m-> 1721\u001b[0m \u001b[38;5;28mself\u001b[39m\u001b[38;5;241m.\u001b[39m_jwrite\u001b[38;5;241m.\u001b[39mparquet(path)\n",
      "File \u001b[1;32mc:\\Users\\Work\\miniconda3\\envs\\BD2024\\Lib\\site-packages\\py4j\\java_gateway.py:1322\u001b[0m, in \u001b[0;36mJavaMember.__call__\u001b[1;34m(self, *args)\u001b[0m\n\u001b[0;32m   1316\u001b[0m command \u001b[38;5;241m=\u001b[39m proto\u001b[38;5;241m.\u001b[39mCALL_COMMAND_NAME \u001b[38;5;241m+\u001b[39m\\\n\u001b[0;32m   1317\u001b[0m     \u001b[38;5;28mself\u001b[39m\u001b[38;5;241m.\u001b[39mcommand_header \u001b[38;5;241m+\u001b[39m\\\n\u001b[0;32m   1318\u001b[0m     args_command \u001b[38;5;241m+\u001b[39m\\\n\u001b[0;32m   1319\u001b[0m     proto\u001b[38;5;241m.\u001b[39mEND_COMMAND_PART\n\u001b[0;32m   1321\u001b[0m answer \u001b[38;5;241m=\u001b[39m \u001b[38;5;28mself\u001b[39m\u001b[38;5;241m.\u001b[39mgateway_client\u001b[38;5;241m.\u001b[39msend_command(command)\n\u001b[1;32m-> 1322\u001b[0m return_value \u001b[38;5;241m=\u001b[39m get_return_value(\n\u001b[0;32m   1323\u001b[0m     answer, \u001b[38;5;28mself\u001b[39m\u001b[38;5;241m.\u001b[39mgateway_client, \u001b[38;5;28mself\u001b[39m\u001b[38;5;241m.\u001b[39mtarget_id, \u001b[38;5;28mself\u001b[39m\u001b[38;5;241m.\u001b[39mname)\n\u001b[0;32m   1325\u001b[0m \u001b[38;5;28;01mfor\u001b[39;00m temp_arg \u001b[38;5;129;01min\u001b[39;00m temp_args:\n\u001b[0;32m   1326\u001b[0m     \u001b[38;5;28;01mif\u001b[39;00m \u001b[38;5;28mhasattr\u001b[39m(temp_arg, \u001b[38;5;124m\"\u001b[39m\u001b[38;5;124m_detach\u001b[39m\u001b[38;5;124m\"\u001b[39m):\n",
      "File \u001b[1;32mc:\\Users\\Work\\miniconda3\\envs\\BD2024\\Lib\\site-packages\\pyspark\\errors\\exceptions\\captured.py:185\u001b[0m, in \u001b[0;36mcapture_sql_exception.<locals>.deco\u001b[1;34m(*a, **kw)\u001b[0m\n\u001b[0;32m    181\u001b[0m converted \u001b[38;5;241m=\u001b[39m convert_exception(e\u001b[38;5;241m.\u001b[39mjava_exception)\n\u001b[0;32m    182\u001b[0m \u001b[38;5;28;01mif\u001b[39;00m \u001b[38;5;129;01mnot\u001b[39;00m \u001b[38;5;28misinstance\u001b[39m(converted, UnknownException):\n\u001b[0;32m    183\u001b[0m     \u001b[38;5;66;03m# Hide where the exception came from that shows a non-Pythonic\u001b[39;00m\n\u001b[0;32m    184\u001b[0m     \u001b[38;5;66;03m# JVM exception message.\u001b[39;00m\n\u001b[1;32m--> 185\u001b[0m     \u001b[38;5;28;01mraise\u001b[39;00m converted \u001b[38;5;28;01mfrom\u001b[39;00m \u001b[38;5;28;01mNone\u001b[39;00m\n\u001b[0;32m    186\u001b[0m \u001b[38;5;28;01melse\u001b[39;00m:\n\u001b[0;32m    187\u001b[0m     \u001b[38;5;28;01mraise\u001b[39;00m\n",
      "\u001b[1;31mAnalysisException\u001b[0m: [PATH_ALREADY_EXISTS] Path file:/c:/Users/Work/Documents/Aulas2023_24/sem2/BD/BigData/dataset_output/output.parquet already exists. Set mode as \"overwrite\" to overwrite the existing path."
     ]
    }
   ],
   "source": [
    "session = SparkSession.builder.appName(\"CSV to Parquet\").getOrCreate()\n",
    "\n",
    "df_spark = session.read.csv(\"dataset_output/output.csv\", header=True, inferSchema=True)\n",
    "\n",
    "df_spark.write.parquet(\"dataset_output/output.parquet\") # Write pode não estar funcional\n",
    "\n",
    "session.stop()"
   ]
  },
  {
   "cell_type": "markdown",
   "metadata": {},
   "source": [
    "Introdução do ficheiro ~~Parquet~~ (*not working*) CSV para uma base de dados (MongoDB)"
   ]
  },
  {
   "cell_type": "code",
   "execution_count": 6,
   "metadata": {},
   "outputs": [
    {
     "data": {
      "text/plain": [
       "InsertManyResult([ObjectId('6617bc99b8a60fe8dac962c6'), ObjectId('6617bc99b8a60fe8dac962c7'), ObjectId('6617bc99b8a60fe8dac962c8'), ObjectId('6617bc99b8a60fe8dac962c9'), ObjectId('6617bc99b8a60fe8dac962ca'), ObjectId('6617bc99b8a60fe8dac962cb'), ObjectId('6617bc99b8a60fe8dac962cc'), ObjectId('6617bc99b8a60fe8dac962cd'), ObjectId('6617bc99b8a60fe8dac962ce'), ObjectId('6617bc99b8a60fe8dac962cf'), ObjectId('6617bc99b8a60fe8dac962d0'), ObjectId('6617bc99b8a60fe8dac962d1'), ObjectId('6617bc99b8a60fe8dac962d2'), ObjectId('6617bc99b8a60fe8dac962d3'), ObjectId('6617bc99b8a60fe8dac962d4'), ObjectId('6617bc99b8a60fe8dac962d5'), ObjectId('6617bc99b8a60fe8dac962d6'), ObjectId('6617bc99b8a60fe8dac962d7'), ObjectId('6617bc99b8a60fe8dac962d8'), ObjectId('6617bc99b8a60fe8dac962d9'), ObjectId('6617bc99b8a60fe8dac962da'), ObjectId('6617bc99b8a60fe8dac962db'), ObjectId('6617bc99b8a60fe8dac962dc'), ObjectId('6617bc99b8a60fe8dac962dd'), ObjectId('6617bc99b8a60fe8dac962de'), ObjectId('6617bc99b8a60fe8dac962df'), ObjectId('6617bc99b8a60fe8dac962e0')], acknowledged=True)"
      ]
     },
     "execution_count": 6,
     "metadata": {},
     "output_type": "execute_result"
    }
   ],
   "source": [
    "# Connect to MongoDB\n",
    "\n",
    "from pymongo import MongoClient\n",
    "\n",
    "client = MongoClient(\"mongodb://localhost:27017/\")\n",
    "db = client[\"BigData\"]\n",
    "collection = db[\"data\"]\n",
    "\n",
    "df = pd.read_csv(\"dataset_output/output.csv\")\n",
    "dictionary = df.to_dict(orient=\"records\")\n",
    "\n",
    "collection.insert_many(dictionary)"
   ]
  },
  {
   "cell_type": "code",
   "execution_count": null,
   "metadata": {},
   "outputs": [],
   "source": []
  }
 ],
 "metadata": {
  "kernelspec": {
   "display_name": "Python 3",
   "language": "python",
   "name": "python3"
  },
  "language_info": {
   "codemirror_mode": {
    "name": "ipython",
    "version": 3
   },
   "file_extension": ".py",
   "mimetype": "text/x-python",
   "name": "python",
   "nbconvert_exporter": "python",
   "pygments_lexer": "ipython3",
   "version": "3.11.7"
  }
 },
 "nbformat": 4,
 "nbformat_minor": 2
}
